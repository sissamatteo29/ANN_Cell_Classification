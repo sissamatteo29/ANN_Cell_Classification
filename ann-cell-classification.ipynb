{
 "cells": [
  {
   "cell_type": "markdown",
   "metadata": {
    "id": "nuwVgG3Vbbka"
   },
   "source": [
    "# Artificial Neural Networks and Deep Learning\n",
    "\n",
    "\n",
    "---\n",
    "\n",
    "\n",
    "# Homework 1"
   ]
  },
  {
   "cell_type": "code",
   "execution_count": null,
   "metadata": {},
   "outputs": [],
   "source": [
    "# Todo (to improve model): \n",
    "# dropout !!\n",
    "# Add an edge detection technique on cell images \n",
    "# Read on past solutions to this problem (papers)"
   ]
  },
  {
   "cell_type": "markdown",
   "metadata": {
    "id": "d7IqZP5Iblna"
   },
   "source": [
    "## ⚙️ Import Libraries"
   ]
  },
  {
   "cell_type": "code",
   "execution_count": null,
   "metadata": {
    "execution": {
     "iopub.execute_input": "2024-11-09T10:57:39.924683Z",
     "iopub.status.busy": "2024-11-09T10:57:39.924202Z",
     "iopub.status.idle": "2024-11-09T10:57:56.060858Z",
     "shell.execute_reply": "2024-11-09T10:57:56.059776Z",
     "shell.execute_reply.started": "2024-11-09T10:57:39.924628Z"
    },
    "id": "CO6_Ft_8T56A",
    "trusted": true
   },
   "outputs": [],
   "source": [
    "import numpy as np\n",
    "import tensorflow as tf\n",
    "import seaborn as sns\n",
    "from tensorflow import keras as tfk\n",
    "from tensorflow.keras import layers as tfkl\n",
    "import matplotlib.pyplot as plt\n",
    "import pandas as pd\n",
    "from sklearn.model_selection import train_test_split, KFold\n",
    "from sklearn.model_selection import train_test_split\n",
    "from sklearn.metrics import accuracy_score, confusion_matrix, precision_score, recall_score, f1_score\n",
    "import matplotlib.gridspec as gridspec\n",
    "\n",
    "seed = 42\n",
    "np.random.seed(seed)\n",
    "tf.random.set_seed(seed)"
   ]
  },
  {
   "cell_type": "markdown",
   "metadata": {
    "id": "GN_cpHlSboXV"
   },
   "source": [
    "## ⏳ Load the Data"
   ]
  },
  {
   "cell_type": "code",
   "execution_count": null,
   "metadata": {
    "execution": {
     "iopub.execute_input": "2024-11-09T10:57:56.063580Z",
     "iopub.status.busy": "2024-11-09T10:57:56.062939Z",
     "iopub.status.idle": "2024-11-09T10:58:00.759928Z",
     "shell.execute_reply": "2024-11-09T10:58:00.758594Z",
     "shell.execute_reply.started": "2024-11-09T10:57:56.063537Z"
    },
    "id": "pLaoDaG1V1Yg",
    "trusted": true
   },
   "outputs": [],
   "source": [
    "# Load Data\n",
    "data = np.load('clean_data.npz')\n",
    "# data = np.load('/kaggle/input/training-set/training_set.npz')\n",
    "\n",
    "data\n",
    "x = data['images']\n",
    "y = data['labels']\n",
    "\n",
    "np.unique(y, return_counts=True)"
   ]
  },
  {
   "cell_type": "code",
   "execution_count": null,
   "metadata": {
    "execution": {
     "iopub.execute_input": "2024-11-09T10:58:00.770913Z",
     "iopub.status.busy": "2024-11-09T10:58:00.770452Z",
     "iopub.status.idle": "2024-11-09T10:58:00.790099Z",
     "shell.execute_reply": "2024-11-09T10:58:00.788678Z",
     "shell.execute_reply.started": "2024-11-09T10:58:00.770831Z"
    },
    "trusted": true
   },
   "outputs": [],
   "source": [
    "# Labels dictionary\n",
    "labels_dict = {\n",
    "    0: 'Basophil',\n",
    "    1: 'Eosinophil',\n",
    "    2: 'Erythroblast',\n",
    "    3: 'Immature granulocytes',\n",
    "    4: 'Lymphocyte',\n",
    "    5: 'Monocyte',\n",
    "    6: 'Neutrophil',\n",
    "    7: 'Platelet'\n",
    "}"
   ]
  },
  {
   "cell_type": "code",
   "execution_count": null,
   "metadata": {},
   "outputs": [],
   "source": [
    "class_count = {}\n",
    "for i in labels_dict:\n",
    "    class_count[i] = np.unique(y, return_counts=True)[1][i]\n",
    "\n",
    "class_count"
   ]
  },
  {
   "cell_type": "code",
   "execution_count": null,
   "metadata": {
    "execution": {
     "iopub.execute_input": "2024-11-09T10:58:00.791865Z",
     "iopub.status.busy": "2024-11-09T10:58:00.791451Z",
     "iopub.status.idle": "2024-11-09T10:58:02.294079Z",
     "shell.execute_reply": "2024-11-09T10:58:02.292703Z",
     "shell.execute_reply.started": "2024-11-09T10:58:00.791820Z"
    },
    "trusted": true
   },
   "outputs": [],
   "source": [
    "fig, axs = plt.subplots(3, 3, figsize=(10, 10))\n",
    "axs = axs.reshape((-1,))\n",
    "for i in range(9):\n",
    "    axs[i].imshow(x[i])\n",
    "    axs[i].set_title(f'Class: {labels_dict[y[i][0]]} {y[i]}')\n",
    "    axs[i].axis('off')"
   ]
  },
  {
   "cell_type": "markdown",
   "metadata": {},
   "source": [
    "## 🔄 Process Data"
   ]
  },
  {
   "cell_type": "code",
   "execution_count": null,
   "metadata": {},
   "outputs": [],
   "source": [
    "# Normalize data to the range [0, 1]\n",
    "x = (x / 255).astype('float32')\n",
    "\n",
    "# Convert labels to categorical format using one-hot encoding\n",
    "y = tfk.utils.to_categorical(y)"
   ]
  },
  {
   "cell_type": "code",
   "execution_count": null,
   "metadata": {
    "execution": {
     "iopub.execute_input": "2024-11-09T10:58:04.760932Z",
     "iopub.status.busy": "2024-11-09T10:58:04.760484Z",
     "iopub.status.idle": "2024-11-09T10:58:05.686285Z",
     "shell.execute_reply": "2024-11-09T10:58:05.684931Z",
     "shell.execute_reply.started": "2024-11-09T10:58:04.760861Z"
    },
    "trusted": true
   },
   "outputs": [],
   "source": [
    "test_val_size = 0.05 # parameter to tune\n",
    "\n",
    "# Split data into train_val and test sets\n",
    "X_train_val, X_test, y_train_val, y_test = train_test_split(x, y, random_state=seed, test_size=test_val_size, stratify=np.argmax(y,axis=1))\n",
    "\n",
    "# Further split train_val into train and validation sets\n",
    "X_train, X_val, y_train, y_val = train_test_split(X_train_val, y_train_val, random_state=seed, test_size=len(X_test), stratify=np.argmax(y_train_val,axis=1))\n",
    "\n",
    "# Print shapes of the datasets\n",
    "print(f\"X_train shape: {X_train.shape}, y_train shape: {y_train.shape}\")\n",
    "print(f\"X_val shape: {X_val.shape}, y_val shape: {y_val.shape}\")\n",
    "print(f\"X_test shape: {X_test.shape}, y_test shape: {y_test.shape}\")"
   ]
  },
  {
   "cell_type": "markdown",
   "metadata": {},
   "source": [
    "## 🧮 Define Network Parameters"
   ]
  },
  {
   "cell_type": "code",
   "execution_count": null,
   "metadata": {
    "execution": {
     "iopub.execute_input": "2024-11-09T10:58:05.688156Z",
     "iopub.status.busy": "2024-11-09T10:58:05.687757Z",
     "iopub.status.idle": "2024-11-09T10:58:05.695704Z",
     "shell.execute_reply": "2024-11-09T10:58:05.694315Z",
     "shell.execute_reply.started": "2024-11-09T10:58:05.688114Z"
    },
    "trusted": true
   },
   "outputs": [],
   "source": [
    "# Input shape for the model\n",
    "input_shape = X_train.shape[1:]\n",
    "\n",
    "# Output shape for the model\n",
    "output_shape = y_train.shape[1]\n",
    "\n",
    "print(\"Input Shape:\", input_shape)\n",
    "print(\"Output Shape:\", output_shape)"
   ]
  },
  {
   "cell_type": "code",
   "execution_count": null,
   "metadata": {
    "execution": {
     "iopub.execute_input": "2024-11-09T10:58:05.701611Z",
     "iopub.status.busy": "2024-11-09T10:58:05.701137Z",
     "iopub.status.idle": "2024-11-09T10:58:05.709050Z",
     "shell.execute_reply": "2024-11-09T10:58:05.707789Z",
     "shell.execute_reply.started": "2024-11-09T10:58:05.701561Z"
    },
    "trusted": true
   },
   "outputs": [],
   "source": [
    "# Number of training epochs\n",
    "epochs = 100 # parameter to tune\n",
    "\n",
    "# Batch size for training\n",
    "batch_size = 32 # parameter to tune\n",
    "\n",
    "# Learning rate: step size for updating the model's weights\n",
    "learning_rate = 0.001 # parameter to tune\n",
    "\n",
    "# Print the defined parameters\n",
    "print(\"Epochs:\", epochs)\n",
    "print(\"Batch Size:\", batch_size)\n",
    "print(\"Learning Rate:\", learning_rate)"
   ]
  },
  {
   "cell_type": "markdown",
   "metadata": {},
   "source": [
    "## 🛠️ Build the Model"
   ]
  },
  {
   "cell_type": "code",
   "execution_count": null,
   "metadata": {
    "execution": {
     "iopub.execute_input": "2024-11-09T10:58:05.725333Z",
     "iopub.status.busy": "2024-11-09T10:58:05.724570Z",
     "iopub.status.idle": "2024-11-09T10:58:05.742446Z",
     "shell.execute_reply": "2024-11-09T10:58:05.741293Z",
     "shell.execute_reply.started": "2024-11-09T10:58:05.725289Z"
    },
    "trusted": true
   },
   "outputs": [],
   "source": [
    "def build_model(\n",
    "    input_shape=input_shape,\n",
    "    output_shape=output_shape,\n",
    "    learning_rate=learning_rate,\n",
    "    seed=seed\n",
    "):\n",
    "\n",
    "    tf.random.set_seed(seed)\n",
    "    \n",
    "    # Build the neural network layer by layer\n",
    "    inputs = tfkl.Input(shape=input_shape, name='Input')\n",
    "\n",
    "    x = tfkl.Conv2D(filters=32, kernel_size=3, padding='same', name='conv1')(inputs)\n",
    "\n",
    "    x = tfkl.Activation('relu', name='act1')(x)\n",
    "    x = tfkl.MaxPooling2D(pool_size=2, name='mp1')(x)\n",
    "\n",
    "    x = tfkl.Conv2D(filters=64, kernel_size=3, padding='same', name='conv2')(x)\n",
    "    x = tfkl.Activation('relu', name='act2')(x)\n",
    "    x = tfkl.MaxPooling2D(pool_size=2, name='mp2')(x)\n",
    "\n",
    "    x = tfkl.Flatten(name='flatten')(x)\n",
    "\n",
    "    x = tfkl.Dense(units=output_shape, name='dense')(x)\n",
    "    outputs = tfkl.Activation('softmax', name='softmax')(x)\n",
    "\n",
    "    # Connect input and output through the Model class\n",
    "    model = tfk.Model(inputs=inputs, outputs=outputs, name='CNN')\n",
    "\n",
    "    # Compile the model\n",
    "    loss = tfk.losses.CategoricalCrossentropy()\n",
    "    optimizer = tfk.optimizers.Adam(learning_rate)\n",
    "    metrics = ['accuracy']\n",
    "    model.compile(loss=loss, optimizer=optimizer, metrics=metrics)\n",
    "\n",
    "    # Return the model\n",
    "    return model"
   ]
  },
  {
   "cell_type": "code",
   "execution_count": null,
   "metadata": {
    "execution": {
     "iopub.execute_input": "2024-11-09T10:58:05.744612Z",
     "iopub.status.busy": "2024-11-09T10:58:05.744100Z",
     "iopub.status.idle": "2024-11-09T10:58:06.291710Z",
     "shell.execute_reply": "2024-11-09T10:58:06.290534Z",
     "shell.execute_reply.started": "2024-11-09T10:58:05.744555Z"
    },
    "trusted": true
   },
   "outputs": [],
   "source": [
    "# Build the model with specified input and output shapes\n",
    "model = build_model()\n",
    "\n",
    "# Display a summary of the model architecture\n",
    "model.summary(expand_nested=True, show_trainable=True)\n",
    "\n",
    "# Plot the model architecture\n",
    "tfk.utils.plot_model(model, expand_nested=True, show_trainable=True, show_shapes=True, dpi=70)"
   ]
  },
  {
   "cell_type": "markdown",
   "metadata": {
    "id": "FSliIxBvbs2Q"
   },
   "source": [
    "## 🛠️ Train and Save the Model"
   ]
  },
  {
   "cell_type": "markdown",
   "metadata": {},
   "source": [
    "### 💡 K-Fold Cross-Validation"
   ]
  },
  {
   "cell_type": "code",
   "execution_count": null,
   "metadata": {},
   "outputs": [],
   "source": [
    "# Define the number of folds for cross-validation\n",
    "num_folds = 5 # parameter to tune\n",
    "\n",
    "# Initialize lists to store training histories, scores, and best epochs\n",
    "histories = []\n",
    "scores = []\n",
    "best_epochs = []\n",
    "\n",
    "# Create a KFold cross-validation object\n",
    "kfold = KFold(n_splits=num_folds, shuffle=True, random_state=seed)\n",
    "\n",
    "# Loop through each fold\n",
    "for fold_idx, (train_idx, valid_idx) in enumerate(kfold.split(X_train_val, y_train_val)):\n",
    "\n",
    "    print(\"Starting training on fold num: {}\".format(fold_idx+1))\n",
    "\n",
    "    # Build a new dropout model for each fold\n",
    "    k_model = build_model(input_shape)\n",
    "\n",
    "    patience = 10 # parameter to tune\n",
    "\n",
    "    # Create an EarlyStopping callback\n",
    "    early_stopping = tfk.callbacks.EarlyStopping(\n",
    "        monitor='val_mse',\n",
    "        mode='min',\n",
    "        patience=patience,\n",
    "        restore_best_weights=True\n",
    "    )\n",
    "\n",
    "    callbacks = [early_stopping]\n",
    "\n",
    "    # Train the model on the training data for this fold\n",
    "    history = k_model.fit(\n",
    "    x = X_train_val[train_idx],\n",
    "    y = y_train_val[train_idx],\n",
    "    validation_data=(X_train_val[valid_idx], y_train_val[valid_idx]),\n",
    "    batch_size = batch_size,\n",
    "    epochs = epochs,\n",
    "    callbacks = callbacks,\n",
    "    verbose = 1\n",
    "    ).history\n",
    "\n",
    "    # Evaluate the model on the validation data for this fold\n",
    "    score = k_model.evaluate(X_train_val[valid_idx], y_train_val[valid_idx], verbose=0)\n",
    "    scores.append(score[1])\n",
    "\n",
    "    # Calculate the best epoch for early stopping\n",
    "    best_epoch = len(history['loss']) - patience\n",
    "    best_epochs.append(best_epoch)\n",
    "\n",
    "    # Store the training history for this fold\n",
    "    histories.append(history)\n"
   ]
  },
  {
   "cell_type": "code",
   "execution_count": null,
   "metadata": {},
   "outputs": [],
   "source": [
    "# Define a list of colors for plotting\n",
    "colors = ['#1f77b4', '#ff7f0e', '#2ca02c', '#d62728', '#9467bd', '#8c564b', '#e377c2', '#7f7f7f', '#bcbd22', '#17becf']\n",
    "\n",
    "# Print mean and standard deviation of MSE scores\n",
    "print(\"MSE\")\n",
    "print(f\"Mean: {np.mean(scores).round(4)}\\nStd:  {np.std(scores).round(4)}\")\n",
    "\n",
    "# Create a figure for MSE visualization\n",
    "plt.figure(figsize=(15,6))\n",
    "\n",
    "# Plot MSE for each fold\n",
    "for fold_idx in range(num_folds):\n",
    "    plt.plot(histories[fold_idx]['accuracy'][:-patience], color=colors[fold_idx], label=f'Fold N°{fold_idx+1}')\n",
    "    plt.title('Accuracy')\n",
    "    plt.legend(loc='upper right')\n",
    "    plt.grid(alpha=.3)\n",
    "\n",
    "# Show the plot\n",
    "plt.show()"
   ]
  },
  {
   "cell_type": "code",
   "execution_count": null,
   "metadata": {
    "trusted": true
   },
   "outputs": [],
   "source": [
    "# Plot training and validation loss\n",
    "plt.figure(figsize=(15, 2))\n",
    "plt.plot(history['loss'], label='Training loss', alpha=.8)\n",
    "plt.plot(history['val_loss'], label='Validation loss', alpha=.8)\n",
    "plt.title('Loss')\n",
    "plt.legend()\n",
    "plt.grid(alpha=.3)\n",
    "\n",
    "# Plot training and validation accuracy\n",
    "plt.figure(figsize=(15, 2))\n",
    "plt.plot(history['accuracy'], label='Training accuracy', alpha=.8)\n",
    "plt.plot(history['val_accuracy'], label='Validation accuracy', alpha=.8)\n",
    "plt.title('Accuracy')\n",
    "plt.legend()\n",
    "plt.grid(alpha=.3)\n",
    "plt.show()"
   ]
  },
  {
   "cell_type": "code",
   "execution_count": null,
   "metadata": {},
   "outputs": [],
   "source": [
    "# Calculate the average best epoch\n",
    "avg_epochs = int(np.mean(best_epochs))\n",
    "print(f\"Best average epoch: {avg_epochs}\")"
   ]
  },
  {
   "cell_type": "code",
   "execution_count": null,
   "metadata": {},
   "outputs": [],
   "source": [
    "# Build the final model using the calculated average best epoch\n",
    "final_model = build_model(input_shape)\n",
    "\n",
    "# Train the final model on the combined training and validation data\n",
    "final_history = final_model.fit(\n",
    "    x = X_train_val,\n",
    "    y = y_train_val,\n",
    "    batch_size = batch_size,\n",
    "    epochs = avg_epochs\n",
    ").history\n",
    "\n",
    "# Save the trained model to a file with the accuracy included in the filename\n",
    "model_filename = 'cell.keras'\n",
    "final_model.save(model_filename)\n",
    "\n",
    "# Delete the model to free up resources\n",
    "del final_model"
   ]
  },
  {
   "cell_type": "markdown",
   "metadata": {},
   "source": [
    "## 🕹️ Use the Model - Make Inference"
   ]
  },
  {
   "cell_type": "code",
   "execution_count": null,
   "metadata": {
    "execution": {
     "iopub.execute_input": "2024-11-08T17:03:23.394696Z",
     "iopub.status.busy": "2024-11-08T17:03:23.394426Z",
     "iopub.status.idle": "2024-11-08T17:03:23.507975Z",
     "shell.execute_reply": "2024-11-08T17:03:23.507107Z",
     "shell.execute_reply.started": "2024-11-08T17:03:23.394665Z"
    },
    "trusted": true
   },
   "outputs": [],
   "source": [
    "# Load the saved model\n",
    "model = tfk.models.load_model('cell.keras')\n",
    "\n",
    "# Display a summary of the model architecture\n",
    "model.summary(expand_nested=True, show_trainable=True)"
   ]
  },
  {
   "cell_type": "code",
   "execution_count": null,
   "metadata": {
    "execution": {
     "iopub.execute_input": "2024-11-08T17:03:23.510209Z",
     "iopub.status.busy": "2024-11-08T17:03:23.509613Z",
     "iopub.status.idle": "2024-11-08T17:03:23.764851Z",
     "shell.execute_reply": "2024-11-08T17:03:23.763421Z",
     "shell.execute_reply.started": "2024-11-08T17:03:23.510175Z"
    },
    "trusted": true
   },
   "outputs": [],
   "source": [
    "# Predict class probabilities and get predicted classes\n",
    "test_predictions = model.predict(X_test, verbose=0)\n",
    "print(len(test_predictions))\n",
    "test_predictions = np.argmax(test_predictions, axis=-1)\n",
    "\n",
    "# Extract ground truth classes\n",
    "test_gt = np.argmax(y_test, axis=-1)\n",
    "\n",
    "# Calculate and display test set accuracy\n",
    "test_accuracy = accuracy_score(test_gt, test_predictions)\n",
    "print(f'Accuracy score over the test set: {round(test_accuracy, 4)}')\n",
    "\n",
    "# Calculate and display test set precision\n",
    "test_precision = precision_score(test_gt, test_predictions, average='weighted')\n",
    "print(f'Precision score over the test set: {round(test_precision, 4)}')\n",
    "\n",
    "# Calculate and display test set recall\n",
    "test_recall = recall_score(test_gt, test_predictions, average='weighted')\n",
    "print(f'Recall score over the test set: {round(test_recall, 4)}')\n",
    "\n",
    "# Calculate and display test set F1 score\n",
    "test_f1 = f1_score(test_gt, test_predictions, average='weighted')\n",
    "print(f'F1 score over the test set: {round(test_f1, 4)}')\n",
    "\n",
    "# Compute the confusion matrix\n",
    "cm = confusion_matrix(test_gt, test_predictions)\n",
    "\n",
    "# Create labels combining confusion matrix values\n",
    "labels = np.array([f\"{num}\" for num in cm.flatten()]).reshape(cm.shape)\n",
    "\n",
    "# Plot the confusion matrix with class labels\n",
    "plt.figure(figsize=(8, 6))\n",
    "sns.heatmap(cm, annot=labels, fmt='', xticklabels=list(labels_dict.values()), yticklabels=list(labels_dict.values()), cmap='Blues')\n",
    "plt.xlabel('True labels')\n",
    "plt.ylabel('Predicted labels')\n",
    "plt.show()"
   ]
  },
  {
   "cell_type": "code",
   "execution_count": null,
   "metadata": {},
   "outputs": [],
   "source": [
    "# Let's analyze one specific prediction\n",
    "test1 = X_test[0]\n",
    "\n",
    "# Reshape the image to match the input shape of the model\n",
    "test1 = test1.reshape(1, *test1.shape)\n",
    "\n",
    "#show image with real label\n",
    "plt.imshow(X_test[0])\n",
    "plt.title(f'Real label: {np.argmax(y_test[0])}')"
   ]
  },
  {
   "cell_type": "code",
   "execution_count": null,
   "metadata": {},
   "outputs": [],
   "source": [
    "X_test.shape"
   ]
  },
  {
   "cell_type": "code",
   "execution_count": null,
   "metadata": {},
   "outputs": [],
   "source": [
    "test1.shape"
   ]
  },
  {
   "cell_type": "code",
   "execution_count": null,
   "metadata": {},
   "outputs": [],
   "source": [
    "test1_pred = model.predict(test1, verbose=0)\n",
    "print(len(test1_pred))\n",
    "test1_pred = np.argmax(test_predictions, axis=-1)\n",
    "print(f\"Predicted class: {test1_pred}\")\n",
    "print(f\"Real class: {np.argmax(y_test[0])}\")"
   ]
  },
  {
   "cell_type": "code",
   "execution_count": null,
   "metadata": {},
   "outputs": [],
   "source": [
    "len(test_predictions)"
   ]
  },
  {
   "cell_type": "markdown",
   "metadata": {
    "id": "RNp6pUZuddqC"
   },
   "source": [
    "## 📊 Prepare Your Submission\n",
    "\n",
    "\n",
    "\n",
    "To prepare your submission, create a `.zip` file that includes all the necessary code to run your model. It **must** include a `model.py` file with the following class:\n",
    "\n",
    "\n",
    "\n",
    "```python\n",
    "\n",
    "# file: model.py\n",
    "\n",
    "class Model:\n",
    "\n",
    "    def __init__(self):\n",
    "\n",
    "        \"\"\"Initialize the internal state of the model.\"\"\"\n",
    "\n",
    "\n",
    "\n",
    "    def predict(self, X):\n",
    "\n",
    "        \"\"\"Return a numpy array with the labels corresponding to the input X.\"\"\"\n",
    "\n",
    "```\n",
    "\n",
    "\n",
    "\n",
    "The next cell shows an example implementation of the `model.py` file, which includes loading model weights from the `weights.keras` file and conducting predictions on provided input data. The `.zip` file is created and downloaded in the last notebook cell.\n",
    "\n",
    "\n",
    "\n",
    "❗ Feel free to modify the method implementations to better fit your specific requirements, but please ensure that the class name and method interfaces remain unchanged."
   ]
  },
  {
   "cell_type": "code",
   "execution_count": null,
   "metadata": {
    "id": "RKT4h-9xYwiT"
   },
   "outputs": [],
   "source": [
    "%%writefile model.py\n",
    "\n",
    "import numpy as np\n",
    "\n",
    "\n",
    "\n",
    "import tensorflow as tf\n",
    "\n",
    "from tensorflow import keras as tfk\n",
    "\n",
    "from tensorflow.keras import layers as tfkl\n",
    "\n",
    "\n",
    "\n",
    "\n",
    "\n",
    "class Model:\n",
    "\n",
    "    def __init__(self):\n",
    "\n",
    "        \"\"\"\n",
    "\n",
    "        Initialize the internal state of the model. Note that the __init__\n",
    "\n",
    "        method cannot accept any arguments.\n",
    "\n",
    "\n",
    "\n",
    "        The following is an example loading the weights of a pre-trained\n",
    "\n",
    "        model.\n",
    "\n",
    "        \"\"\"\n",
    "\n",
    "        self.neural_network = tfk.models.load_model('cell.keras')\n",
    "\n",
    "\n",
    "\n",
    "    def predict(self, X):\n",
    "\n",
    "        \"\"\"\n",
    "\n",
    "        Predict the labels corresponding to the input X. Note that X is a numpy\n",
    "\n",
    "        array of shape (n_samples, 96, 96, 3) and the output should be a numpy\n",
    "\n",
    "        array of shape (n_samples,). Therefore, outputs must no be one-hot\n",
    "\n",
    "        encoded.\n",
    "\n",
    "\n",
    "\n",
    "        The following is an example of a prediction from the pre-trained model\n",
    "\n",
    "        loaded in the __init__ method.\n",
    "\n",
    "        \"\"\"\n",
    "\n",
    "        preds = self.neural_network.predict(X, verbose=0)\n",
    "        # Get the predicted classes, not the one-hot encoded values\n",
    "        preds = np.argmax(preds, axis=-1)\n",
    "\n",
    "        return preds"
   ]
  },
  {
   "cell_type": "code",
   "execution_count": null,
   "metadata": {
    "id": "s18kX1uDconq"
   },
   "outputs": [],
   "source": [
    "from datetime import datetime\n",
    "\n",
    "filename = f'submission_{datetime.now().strftime(\"%y%m%d_%H%M%S\")}.zip'\n",
    "\n",
    "\n",
    "\n",
    "# Add files to the zip command if needed\n",
    "\n",
    "!zip {filename} model.py cell.keras\n",
    "\n",
    "\n",
    "\n",
    "# from google.colab import files\n",
    "\n",
    "# files.download(filename)"
   ]
  },
  {
   "cell_type": "code",
   "execution_count": null,
   "metadata": {},
   "outputs": [],
   "source": [
    "filename"
   ]
  }
 ],
 "metadata": {
  "colab": {
   "provenance": []
  },
  "kaggle": {
   "accelerator": "nvidiaTeslaT4",
   "dataSources": [
    {
     "datasetId": 6040696,
     "sourceId": 9845641,
     "sourceType": "datasetVersion"
    },
    {
     "datasetId": 6042225,
     "sourceId": 9847610,
     "sourceType": "datasetVersion"
    }
   ],
   "dockerImageVersionId": 30786,
   "isGpuEnabled": true,
   "isInternetEnabled": false,
   "language": "python",
   "sourceType": "notebook"
  },
  "kernelspec": {
   "display_name": "Python 3",
   "language": "python",
   "name": "python3"
  },
  "language_info": {
   "codemirror_mode": {
    "name": "ipython",
    "version": 3
   },
   "file_extension": ".py",
   "mimetype": "text/x-python",
   "name": "python",
   "nbconvert_exporter": "python",
   "pygments_lexer": "ipython3",
   "version": "3.11.9"
  }
 },
 "nbformat": 4,
 "nbformat_minor": 4
}
