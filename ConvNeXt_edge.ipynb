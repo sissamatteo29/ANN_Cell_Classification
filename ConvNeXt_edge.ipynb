{
 "cells": [
  {
   "cell_type": "markdown",
   "metadata": {
    "id": "nuwVgG3Vbbka"
   },
   "source": [
    "# Artificial Neural Networks and Deep Learning\n",
    "\n",
    "\n",
    "\n",
    "\n",
    "\n",
    "\n",
    "\n",
    "\n",
    "\n",
    "\n",
    "\n",
    "---\n",
    "\n",
    "\n",
    "\n",
    "\n",
    "\n",
    "\n",
    "\n",
    "\n",
    "\n",
    "\n",
    "\n",
    "# Homework 1"
   ]
  },
  {
   "cell_type": "markdown",
   "metadata": {
    "id": "d7IqZP5Iblna"
   },
   "source": [
    "## ⚙️ Import Libraries"
   ]
  },
  {
   "cell_type": "code",
   "execution_count": null,
   "metadata": {
    "execution": {
     "iopub.execute_input": "2024-11-12T12:48:14.522456Z",
     "iopub.status.busy": "2024-11-12T12:48:14.522152Z",
     "iopub.status.idle": "2024-11-12T12:48:14.591552Z",
     "shell.execute_reply": "2024-11-12T12:48:14.590642Z",
     "shell.execute_reply.started": "2024-11-12T12:48:14.522424Z"
    },
    "id": "CO6_Ft_8T56A",
    "trusted": true
   },
   "outputs": [],
   "source": [
    "import numpy as np\n",
    "import tensorflow as tf\n",
    "import seaborn as sns\n",
    "from tensorflow import keras as tfk\n",
    "from tensorflow.keras import layers as tfkl\n",
    "import matplotlib.pyplot as plt\n",
    "import pandas as pd\n",
    "from sklearn.model_selection import train_test_split\n",
    "from sklearn.metrics import (\n",
    "    accuracy_score,\n",
    "    confusion_matrix,\n",
    "    precision_score,\n",
    "    recall_score,\n",
    "    f1_score,\n",
    ")\n",
    "import keras\n",
    "import cv2\n",
    "\n",
    "seed = 42\n",
    "np.random.seed(seed)\n",
    "tf.random.set_seed(seed)"
   ]
  },
  {
   "cell_type": "markdown",
   "metadata": {
    "id": "GN_cpHlSboXV"
   },
   "source": [
    "## ⏳ Load the Data"
   ]
  },
  {
   "cell_type": "code",
   "execution_count": 3,
   "metadata": {
    "execution": {
     "iopub.execute_input": "2024-11-12T12:48:14.597976Z",
     "iopub.status.busy": "2024-11-12T12:48:14.597621Z",
     "iopub.status.idle": "2024-11-12T12:48:16.143884Z",
     "shell.execute_reply": "2024-11-12T12:48:16.142936Z",
     "shell.execute_reply.started": "2024-11-12T12:48:14.597918Z"
    },
    "id": "pLaoDaG1V1Yg",
    "trusted": true
   },
   "outputs": [
    {
     "data": {
      "text/plain": [
       "(array([0, 1, 2, 3, 4, 5, 6, 7]),\n",
       " array([2330, 2330, 2330, 2330, 2330, 2330, 2330, 2330], dtype=int64))"
      ]
     },
     "execution_count": 3,
     "metadata": {},
     "output_type": "execute_result"
    }
   ],
   "source": [
    "# Load Data\n",
    "data = np.load('aug_edge_data.npz')\n",
    "# data = np.load(\"/kaggle/input/clean-set/aug_edge_data.npz\")\n",
    "X = data[\"images\"]\n",
    "y = data[\"labels\"]\n",
    "np.unique(y, return_counts=True)"
   ]
  },
  {
   "cell_type": "markdown",
   "metadata": {},
   "source": [
    "\n",
    "## 🔄 Process Data\n"
   ]
  },
  {
   "cell_type": "code",
   "execution_count": 7,
   "metadata": {},
   "outputs": [
    {
     "data": {
      "text/plain": [
       "255"
      ]
     },
     "execution_count": 7,
     "metadata": {},
     "output_type": "execute_result"
    }
   ],
   "source": [
    "X[0].max()"
   ]
  },
  {
   "cell_type": "code",
   "execution_count": null,
   "metadata": {
    "execution": {
     "iopub.execute_input": "2024-11-12T12:48:17.203723Z",
     "iopub.status.busy": "2024-11-12T12:48:17.203402Z",
     "iopub.status.idle": "2024-11-12T12:48:17.949332Z",
     "shell.execute_reply": "2024-11-12T12:48:17.948343Z",
     "shell.execute_reply.started": "2024-11-12T12:48:17.203683Z"
    },
    "trusted": true
   },
   "outputs": [],
   "source": [
    "# Convert labels to categorical format using one-hot encoding\n",
    "y = tfk.utils.to_categorical(y)\n",
    "\n",
    "test_val_size = 0.05 # parameter to tune\n",
    "\n",
    "# Split data into train_val and test sets\n",
    "X_train_val, X_test, y_train_val, y_test = train_test_split(X, y, random_state=seed, test_size=test_val_size, stratify=np.argmax(y,axis=1))\n",
    "\n",
    "# Further split train_val into train and validation sets\n",
    "X_train, X_val, y_train, y_val = train_test_split(X_train_val, y_train_val, random_state=seed, test_size=len(X_test), stratify=np.argmax(y_train_val,axis=1))\n",
    "\n",
    "# Print shapes of the datasets\n",
    "print(f\"X_train shape: {X_train.shape}, y_train shape: {y_train.shape}\")\n",
    "print(f\"X_val shape: {X_val.shape}, y_val shape: {y_val.shape}\")\n",
    "print(f\"X_test shape: {X_test.shape}, y_test shape: {y_test.shape}\")"
   ]
  },
  {
   "cell_type": "markdown",
   "metadata": {},
   "source": [
    "## 🧮 Define Network Parameters\n"
   ]
  },
  {
   "cell_type": "code",
   "execution_count": null,
   "metadata": {
    "execution": {
     "iopub.execute_input": "2024-11-12T12:48:17.951486Z",
     "iopub.status.busy": "2024-11-12T12:48:17.950779Z",
     "iopub.status.idle": "2024-11-12T12:48:17.957125Z",
     "shell.execute_reply": "2024-11-12T12:48:17.956112Z",
     "shell.execute_reply.started": "2024-11-12T12:48:17.951427Z"
    },
    "trusted": true
   },
   "outputs": [],
   "source": [
    "# Input shape for the model\n",
    "input_shape = X_train.shape[1:]\n",
    "\n",
    "# Output shape for the model\n",
    "output_shape = y_train.shape[1]\n",
    "\n",
    "print(\"Input Shape:\", input_shape)\n",
    "print(\"Output Shape:\", output_shape)"
   ]
  },
  {
   "cell_type": "code",
   "execution_count": null,
   "metadata": {
    "execution": {
     "iopub.execute_input": "2024-11-12T12:48:17.958730Z",
     "iopub.status.busy": "2024-11-12T12:48:17.958423Z",
     "iopub.status.idle": "2024-11-12T12:48:17.969301Z",
     "shell.execute_reply": "2024-11-12T12:48:17.968419Z",
     "shell.execute_reply.started": "2024-11-12T12:48:17.958698Z"
    },
    "trusted": true
   },
   "outputs": [],
   "source": [
    "#Number of training epochs\n",
    "epochs = 10 # parameter to tune\n",
    "\n",
    "# Batch size for training\n",
    "batch_size = 64 # parameter to tune\n",
    "\n",
    "# Learning rate: step size for updating the model's weights\n",
    "learning_rate = 0.001 # parameter to tune\n",
    "\n",
    "# Print the defined parameters\n",
    "print(\"Epochs:\", epochs)\n",
    "print(\"Batch Size:\", batch_size)\n",
    "print(\"Learning Rate:\", learning_rate)"
   ]
  },
  {
   "cell_type": "markdown",
   "metadata": {},
   "source": [
    "## 🛠️ Build the Model"
   ]
  },
  {
   "cell_type": "code",
   "execution_count": null,
   "metadata": {
    "execution": {
     "iopub.execute_input": "2024-11-12T12:48:17.970693Z",
     "iopub.status.busy": "2024-11-12T12:48:17.970400Z",
     "iopub.status.idle": "2024-11-12T12:48:26.721096Z",
     "shell.execute_reply": "2024-11-12T12:48:26.719654Z",
     "shell.execute_reply.started": "2024-11-12T12:48:17.970662Z"
    },
    "scrolled": true,
    "trusted": true
   },
   "outputs": [],
   "source": [
    "model_large = keras.applications.ConvNeXtXLarge(\n",
    "    include_top=False, #can change this\n",
    "    include_preprocessing=True,\n",
    "    weights=\"imagenet\",\n",
    "    input_tensor=None,\n",
    "    input_shape=input_shape,\n",
    "    pooling=\"avg\", #can change this\n",
    "    classes=8,\n",
    "    classifier_activation=\"softmax\"    \n",
    ")\n",
    "# tfk.utils.plot_model(model_large, show_shapes=True)"
   ]
  },
  {
   "cell_type": "markdown",
   "metadata": {},
   "source": [
    "### Custom functions to recieve input"
   ]
  },
  {
   "cell_type": "code",
   "execution_count": 1,
   "metadata": {},
   "outputs": [],
   "source": [
    "def get_siloutte(image, THRESH_VALUE_STRICT, plot=False, gray=False):\n",
    "    \n",
    "    THRESH_BINARY = cv2.THRESH_BINARY    \n",
    "    THRESH_MAX_VALUE = 255\n",
    "\n",
    "    # Transition into shades of gray\n",
    "    if not gray:\n",
    "        gray = cv2.cvtColor(image, cv2.COLOR_BGR2GRAY)\n",
    "    else:\n",
    "        gray = image.copy()\n",
    "\n",
    "    # Create strict mask\n",
    "    _, mask = cv2.threshold(\n",
    "        gray, THRESH_VALUE_STRICT, THRESH_MAX_VALUE, THRESH_BINARY\n",
    "    )\n",
    "    \n",
    "    # Generate intersection between strict mask and original image\n",
    "    siloutte = image.copy()\n",
    "    siloutte[mask == 255] = 255 # overlapping the strict mask with the white pixels\n",
    "\n",
    "    if plot:\n",
    "        plt.figure(figsize=(12,4))\n",
    "        plt.subplot(131), plt.imshow(image, cmap='gray'), plt.title('original'), plt.axis('off')\n",
    "        plt.subplot(132), plt.imshow(mask, cmap='gray'), plt.title('strict_mask'), plt.axis('off')\n",
    "        plt.subplot(133), plt.imshow(siloutte, cmap='gray'), plt.title('siloutte'), plt.axis('off')\n",
    "\n",
    "    return siloutte\n",
    "\n",
    "def get_gradient(img):\n",
    "    # Sobel operator implementation for axises X and Y\n",
    "    sobelx = cv2.Sobel(img, cv2.CV_64F, 1, 0, ksize=5)\n",
    "    sobely = cv2.Sobel(img, cv2.CV_64F, 0, 1, ksize=5)\n",
    "\n",
    "    # Gradient calculation\n",
    "    gradient_magnitude = np.sqrt(sobelx**2 + sobely**2)\n",
    "\n",
    "    # Gradient normalization\n",
    "    gradient_magnitude = np.uint8(gradient_magnitude / gradient_magnitude.max() * 255)\n",
    "\n",
    "    # Invert colors for better visualization \n",
    "    inverted_edges = cv2.bitwise_not(gradient_magnitude)\n",
    "\n",
    "    return inverted_edges\n",
    "\n",
    "def edge_highlighting(image):\n",
    "    image = (image * 255).astype(np.uint8)\n",
    "    siloutte = get_siloutte(image, 120, gray=False, plot=False)\n",
    "    gradient_orig = get_gradient(siloutte)\n",
    "    return gradient_orig"
   ]
  },
  {
   "cell_type": "code",
   "execution_count": null,
   "metadata": {
    "execution": {
     "iopub.execute_input": "2024-11-12T12:48:26.725878Z",
     "iopub.status.busy": "2024-11-12T12:48:26.725174Z",
     "iopub.status.idle": "2024-11-12T12:48:30.187137Z",
     "shell.execute_reply": "2024-11-12T12:48:30.185781Z",
     "shell.execute_reply.started": "2024-11-12T12:48:26.725832Z"
    },
    "scrolled": true,
    "trusted": true
   },
   "outputs": [],
   "source": [
    "model_large.trainable = False #Freeze the weights of the CNN\n",
    "tf.random.set_seed(seed)\n",
    "\n",
    "# Create an input layer with shape (96, 96, 3)\n",
    "inputs = tfk.Input(shape=(96, 96, 3), name='input_layer')\n",
    "\n",
    "augmentation = tf.keras.Sequential([\n",
    "    tfkl.RandomFlip(\"horizontal_and_vertical\"),\n",
    "    tfkl.RandomTranslation(0.2,0.2),\n",
    "    tfkl.RandomRotation(0.2),\n",
    "    tfkl.RandomZoom(0.2),\n",
    "], name='Augmentation')\n",
    "\n",
    "x = augmentation(inputs)\n",
    "\n",
    "# Preprocess the input with the function used to preprocess the data to train the model\n",
    "x = tfkl.Lambda(lambda image: tf.map_fn(lambda x: edge_highlighting(x), image))(x)\n",
    "\n",
    "# Connect ConvNeXtXLarge to the input\n",
    "x = model_large(x)\n",
    "\n",
    "###################################################################################################\n",
    "# Adding additional layers here\n",
    "x = tfkl.BatchNormalization()(x)\n",
    "x = tfkl.Dropout(0.5)(x)\n",
    "\n",
    "x = tfkl.Dense(512, activation='relu', name='dense1')(x)\n",
    "x = tfkl.BatchNormalization()(x)\n",
    "x = tfkl.Dropout(0.5)(x)\n",
    "\n",
    "x = tfkl.Dense(256, activation='relu', name='dense2')(x)\n",
    "x = tfkl.BatchNormalization()(x)\n",
    "x = tfkl.Dropout(0.5)(x)\n",
    "\n",
    "x = tfkl.Dense(128, activation='relu', name='dense3')(x)\n",
    "x = tfkl.BatchNormalization()(x)\n",
    "x = tfkl.Dropout(0.5)(x)\n",
    "###################################################################################################\n",
    "# Add a Dense layer with 8 units and softmax activation as the classifier\n",
    "outputs = tfkl.Dense(y_train.shape[-1], activation='softmax', name='dense')(x)\n",
    "\n",
    "# Create a Model connecting input and output\n",
    "model = tfk.Model(inputs=inputs, outputs=outputs, name='model')\n",
    "\n",
    "# Compile the model with Categorical Cross-Entropy loss and Adam optimizer\n",
    "model.compile(loss=tfk.losses.CategoricalCrossentropy(), optimizer=tfk.optimizers.AdamW(learning_rate), metrics=['accuracy'])\n",
    "\n",
    "# Display a summary of the model architecture\n",
    "model.summary(expand_nested=True)\n",
    "\n",
    "# Display model architecture with layer shapes and trainable parameters\n",
    "tfk.utils.plot_model(model, expand_nested=True, show_trainable=True, show_shapes=True, dpi=70)"
   ]
  },
  {
   "cell_type": "markdown",
   "metadata": {
    "id": "FSliIxBvbs2Q"
   },
   "source": [
    "## 🛠️ Train and Save the Model"
   ]
  },
  {
   "cell_type": "code",
   "execution_count": null,
   "metadata": {
    "execution": {
     "iopub.execute_input": "2024-11-12T12:48:30.189107Z",
     "iopub.status.busy": "2024-11-12T12:48:30.188722Z",
     "iopub.status.idle": "2024-11-12T12:48:30.194762Z",
     "shell.execute_reply": "2024-11-12T12:48:30.193848Z",
     "shell.execute_reply.started": "2024-11-12T12:48:30.189068Z"
    },
    "trusted": true
   },
   "outputs": [],
   "source": [
    "# Define the patience value for early stopping\n",
    "patience = 10 # parameter to tune\n",
    "\n",
    "# Create an EarlyStopping callback\n",
    "early_stopping = tfk.callbacks.EarlyStopping(\n",
    "    monitor='val_accuracy',\n",
    "    mode='max',\n",
    "    patience=patience,\n",
    "    restore_best_weights=True\n",
    ")\n",
    "\n",
    "reduce_lr = tfk.callbacks.ReduceLROnPlateau(\n",
    "    monitor=\"val_loss\", factor=0.5, patience=patience, min_lr=1e-6, verbose=1\n",
    ")\n",
    "# Store the callback in a list\n",
    "callbacks = [early_stopping, reduce_lr]"
   ]
  },
  {
   "cell_type": "code",
   "execution_count": null,
   "metadata": {
    "execution": {
     "iopub.execute_input": "2024-11-12T12:48:30.196343Z",
     "iopub.status.busy": "2024-11-12T12:48:30.196051Z",
     "iopub.status.idle": "2024-11-12T12:48:30.223692Z",
     "shell.execute_reply": "2024-11-12T12:48:30.222797Z",
     "shell.execute_reply.started": "2024-11-12T12:48:30.196311Z"
    },
    "scrolled": true,
    "trusted": true
   },
   "outputs": [],
   "source": [
    "X_train.shape,y_train.shape"
   ]
  },
  {
   "cell_type": "code",
   "execution_count": null,
   "metadata": {
    "execution": {
     "iopub.execute_input": "2024-11-12T12:51:26.068245Z",
     "iopub.status.busy": "2024-11-12T12:51:26.067836Z",
     "iopub.status.idle": "2024-11-12T13:14:08.233110Z",
     "shell.execute_reply": "2024-11-12T13:14:08.231883Z",
     "shell.execute_reply.started": "2024-11-12T12:51:26.068207Z"
    },
    "scrolled": true,
    "trusted": true
   },
   "outputs": [],
   "source": [
    "# Train the model with early stopping callback\n",
    "history = model.fit(\n",
    "    x=X_train*255, #The model takes inputs in the range 0-255 \n",
    "    y=y_train,\n",
    "    batch_size=batch_size,\n",
    "    epochs=5,\n",
    "    validation_data=(X_val*255, y_val),\n",
    "    callbacks=callbacks\n",
    ").history\n",
    "\n",
    "# Calculate and print the final validation accuracy\n",
    "final_val_accuracy = round(max(history['val_accuracy'])* 100, 2)\n",
    "print(f'Final validation accuracy: {final_val_accuracy}%')\n",
    "\n",
    "# Save the trained model to a file with the accuracy included in the filename\n",
    "model_filename = 'model_large.keras'\n",
    "model.save(model_filename)\n",
    "\n",
    "# Delete the model to free up resources\n",
    "del model"
   ]
  },
  {
   "cell_type": "code",
   "execution_count": null,
   "metadata": {
    "execution": {
     "iopub.execute_input": "2024-11-12T13:14:08.236656Z",
     "iopub.status.busy": "2024-11-12T13:14:08.236085Z",
     "iopub.status.idle": "2024-11-12T13:14:08.783938Z",
     "shell.execute_reply": "2024-11-12T13:14:08.783031Z",
     "shell.execute_reply.started": "2024-11-12T13:14:08.236593Z"
    },
    "trusted": true
   },
   "outputs": [],
   "source": [
    "# Plot training and validation loss\n",
    "\n",
    "plt.figure(figsize=(15, 2))\n",
    "plt.plot(history[\"loss\"], label=\"Training loss\", alpha=0.8)\n",
    "plt.plot(history[\"val_loss\"], label=\"Validation loss\", alpha=0.8)\n",
    "plt.title(\"Loss\")\n",
    "plt.legend()\n",
    "plt.grid(alpha=0.3)\n",
    "\n",
    "# Plot training and validation accuracy\n",
    "plt.figure(figsize=(15, 2))\n",
    "plt.plot(history[\"accuracy\"], label=\"Training accuracy\", alpha=0.8)\n",
    "plt.plot(history[\"val_accuracy\"], label=\"Validation accuracy\", alpha=0.8)\n",
    "plt.title(\"Accuracy\")\n",
    "plt.legend()\n",
    "plt.grid(alpha=0.3)\n",
    "plt.show()"
   ]
  },
  {
   "cell_type": "markdown",
   "metadata": {},
   "source": [
    "## 🕹️ Use the Model - Make Inference"
   ]
  },
  {
   "cell_type": "code",
   "execution_count": null,
   "metadata": {
    "execution": {
     "iopub.execute_input": "2024-11-12T13:14:08.785710Z",
     "iopub.status.busy": "2024-11-12T13:14:08.785307Z",
     "iopub.status.idle": "2024-11-12T13:16:23.518543Z",
     "shell.execute_reply": "2024-11-12T13:16:23.517607Z",
     "shell.execute_reply.started": "2024-11-12T13:14:08.785656Z"
    },
    "scrolled": true,
    "trusted": true
   },
   "outputs": [],
   "source": [
    "# Load the saved model\n",
    "# model = tfk.models.load_model('cell.keras')\n",
    "\n",
    "model = tfk.models.load_model('/kaggle/working/model_large.keras')\n",
    "\n",
    "# Display a summary of the model architecture\n",
    "model.summary(expand_nested=True, show_trainable=True)"
   ]
  },
  {
   "cell_type": "code",
   "execution_count": null,
   "metadata": {
    "execution": {
     "iopub.execute_input": "2024-11-12T13:17:56.671336Z",
     "iopub.status.busy": "2024-11-12T13:17:56.671047Z",
     "iopub.status.idle": "2024-11-12T13:18:11.041247Z",
     "shell.execute_reply": "2024-11-12T13:18:11.040150Z",
     "shell.execute_reply.started": "2024-11-12T13:17:56.671305Z"
    },
    "trusted": true
   },
   "outputs": [],
   "source": [
    "# Predict class probabilities and get predicted classes\n",
    "\n",
    "test_predictions = model.predict(X_test*255, verbose=0)\n",
    "print(len(test_predictions))\n",
    "test_predictions = np.argmax(test_predictions, axis=-1)\n",
    "\n",
    "# Extract ground truth classes\n",
    "test_gt = np.argmax(y_test, axis=-1)\n",
    "\n",
    "# Calculate and display test set accuracy\n",
    "test_accuracy = accuracy_score(test_gt, test_predictions)\n",
    "print(f\"Accuracy score over the test set: {round(test_accuracy, 4)}\")\n",
    "\n",
    "# Calculate and display test set precision\n",
    "test_precision = precision_score(test_gt, test_predictions, average=\"weighted\")\n",
    "print(f\"Precision score over the test set: {round(test_precision, 4)}\")\n",
    "\n",
    "# Calculate and display test set recall\n",
    "test_recall = recall_score(test_gt, test_predictions, average=\"weighted\")\n",
    "print(f\"Recall score over the test set: {round(test_recall, 4)}\")\n",
    "\n",
    "# Calculate and display test set F1 score\n",
    "test_f1 = f1_score(test_gt, test_predictions, average=\"weighted\")\n",
    "print(f\"F1 score over the test set: {round(test_f1, 4)}\")"
   ]
  },
  {
   "cell_type": "code",
   "execution_count": null,
   "metadata": {},
   "outputs": [],
   "source": [
    "# Labels dictionary\n",
    "labels_dict = {\n",
    "    0: \"Basophil\",\n",
    "    1: \"Eosinophil\",\n",
    "    2: \"Erythroblast\",\n",
    "    3: \"Immature granulocytes\",\n",
    "    4: \"Lymphocyte\",\n",
    "    5: \"Monocyte\",\n",
    "    6: \"Neutrophil\",\n",
    "    7: \"Platelet\",\n",
    "}\n",
    "\n",
    "# Compute the confusion matrix\n",
    "cm = confusion_matrix(test_gt, test_predictions)\n",
    "\n",
    "# Create labels combining confusion matrix values\n",
    "labels = np.array([f\"{num}\" for num in cm.flatten()]).reshape(cm.shape)\n",
    "\n",
    "# Plot the confusion matrix with class labels\n",
    "plt.figure(figsize=(8, 6))\n",
    "sns.heatmap(\n",
    "    cm,\n",
    "    annot=labels,\n",
    "    fmt=\"\",\n",
    "    xticklabels=list(labels_dict.values()),\n",
    "    yticklabels=list(labels_dict.values()),\n",
    "    cmap=\"Blues\",\n",
    ")\n",
    "\n",
    "plt.xlabel(\"True labels\")\n",
    "plt.ylabel(\"Predicted labels\")\n",
    "plt.show()"
   ]
  },
  {
   "cell_type": "markdown",
   "metadata": {
    "id": "RNp6pUZuddqC"
   },
   "source": [
    "## 📊 Prepare Your Submission\n",
    "\n",
    "\n",
    "To prepare your submission, create a `.zip` file that includes all the necessary code to run your model. It **must** include a `model.py` file with the following class:\n",
    "\n",
    "\n",
    "```python\n",
    "\n",
    "# file: model.py\n",
    "\n",
    "class Model:\n",
    "\n",
    "    def __init__(self):\n",
    "\n",
    "\n",
    "        \"\"\"Initialize the internal state of the model.\"\"\"\n",
    "\n",
    "\n",
    "    def predict(self, X):\n",
    "\n",
    "\n",
    "        \"\"\"Return a numpy array with the labels corresponding to the input X.\"\"\"\n",
    "\n",
    "```\n",
    "\n",
    "The next cell shows an example implementation of the `model.py` file, which includes loading model weights from the `weights.keras` file and conducting predictions on provided input data. The `.zip` file is created and downloaded in the last notebook cell.\n",
    "\n",
    "\n",
    "❗ Feel free to modify the method implementations to better fit your specific requirements, but please ensure that the class name and method interfaces remain unchanged."
   ]
  },
  {
   "cell_type": "code",
   "execution_count": null,
   "metadata": {
    "execution": {
     "iopub.execute_input": "2024-11-12T13:18:20.586015Z",
     "iopub.status.busy": "2024-11-12T13:18:20.585582Z",
     "iopub.status.idle": "2024-11-12T13:18:20.593599Z",
     "shell.execute_reply": "2024-11-12T13:18:20.592590Z",
     "shell.execute_reply.started": "2024-11-12T13:18:20.585965Z"
    },
    "id": "RKT4h-9xYwiT",
    "trusted": true
   },
   "outputs": [],
   "source": [
    "%%writefile model.py\n",
    "\n",
    "import numpy as np\n",
    "import tensorflow as tf\n",
    "from tensorflow import keras as tfk\n",
    "from tensorflow.keras import layers as tfkl\n",
    "\n",
    "\n",
    "class Model:\n",
    "\n",
    "    def __init__(self):\n",
    "\n",
    "        \"\"\"\n",
    "\n",
    "        Initialize the internal state of the model. Note that the __init__\n",
    "\n",
    "        method cannot accept any arguments.\n",
    "\n",
    "        The following is an example loading the weights of a pre-trained\n",
    "\n",
    "        model.\n",
    "\n",
    "        \"\"\"\n",
    "\n",
    "        self.neural_network = tfk.models.load_model('model_large.keras')\n",
    "\n",
    "\n",
    "    def predict(self, X):\n",
    "\n",
    "        \"\"\"\n",
    "\n",
    "        Predict the labels corresponding to the input X. Note that X is a numpy\n",
    "\n",
    "        array of shape (n_samples, 96, 96, 3) and the output should be a numpy\n",
    "\n",
    "        array of shape (n_samples,). Therefore, outputs must no be one-hot\n",
    "\n",
    "        encoded.\n",
    "\n",
    "        The following is an example of a prediction from the pre-trained model\n",
    "\n",
    "        loaded in the __init__ method.\n",
    "\n",
    "        \"\"\"\n",
    "\n",
    "        preds = self.neural_network.predict(X, verbose=0)\n",
    "\n",
    "        # Get the predicted classes, not the one-hot encoded values\n",
    "        preds = np.argmax(preds, axis=-1)\n",
    "\n",
    "        return preds\n"
   ]
  },
  {
   "cell_type": "code",
   "execution_count": null,
   "metadata": {
    "execution": {
     "iopub.execute_input": "2024-11-12T13:18:20.830640Z",
     "iopub.status.busy": "2024-11-12T13:18:20.830268Z",
     "iopub.status.idle": "2024-11-12T13:19:33.877032Z",
     "shell.execute_reply": "2024-11-12T13:19:33.875782Z",
     "shell.execute_reply.started": "2024-11-12T13:18:20.830604Z"
    },
    "id": "s18kX1uDconq",
    "trusted": true
   },
   "outputs": [],
   "source": [
    "from datetime import datetime\n",
    "\n",
    "filename = f'submission_{datetime.now().strftime(\"%y%m%d_%H%M%S\")}.zip'\n",
    "\n",
    "# Add files to the zip command if needed\n",
    "!zip {filename} model.py model_large.keras\n",
    "\n",
    "# from google.colab import files\n",
    "# files.download(filename)"
   ]
  },
  {
   "cell_type": "code",
   "execution_count": null,
   "metadata": {
    "execution": {
     "iopub.execute_input": "2024-11-12T13:19:33.879603Z",
     "iopub.status.busy": "2024-11-12T13:19:33.879248Z",
     "iopub.status.idle": "2024-11-12T13:19:33.887437Z",
     "shell.execute_reply": "2024-11-12T13:19:33.886487Z",
     "shell.execute_reply.started": "2024-11-12T13:19:33.879566Z"
    },
    "trusted": true
   },
   "outputs": [],
   "source": [
    "filename"
   ]
  },
  {
   "cell_type": "code",
   "execution_count": null,
   "metadata": {
    "trusted": true
   },
   "outputs": [],
   "source": []
  }
 ],
 "metadata": {
  "colab": {
   "provenance": []
  },
  "kaggle": {
   "accelerator": "none",
   "dataSources": [
    {
     "datasetId": 6040696,
     "sourceId": 9845641,
     "sourceType": "datasetVersion"
    },
    {
     "datasetId": 6062060,
     "sourceId": 9874399,
     "sourceType": "datasetVersion"
    },
    {
     "datasetId": 6062208,
     "sourceId": 9874593,
     "sourceType": "datasetVersion"
    }
   ],
   "dockerImageVersionId": 30786,
   "isGpuEnabled": false,
   "isInternetEnabled": true,
   "language": "python",
   "sourceType": "notebook"
  },
  "kernelspec": {
   "display_name": "Python 3",
   "language": "python",
   "name": "python3"
  },
  "language_info": {
   "codemirror_mode": {
    "name": "ipython",
    "version": 3
   },
   "file_extension": ".py",
   "mimetype": "text/x-python",
   "name": "python",
   "nbconvert_exporter": "python",
   "pygments_lexer": "ipython3",
   "version": "3.11.9"
  }
 },
 "nbformat": 4,
 "nbformat_minor": 4
}
